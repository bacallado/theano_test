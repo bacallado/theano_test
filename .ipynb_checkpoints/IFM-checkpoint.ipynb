{
 "cells": [
  {
   "cell_type": "code",
   "execution_count": 1,
   "metadata": {
    "collapsed": false
   },
   "outputs": [
    {
     "name": "stdout",
     "output_type": "stream",
     "text": [
      "Populating the interactive namespace from numpy and matplotlib\n"
     ]
    }
   ],
   "source": [
    "%pylab inline\n",
    "from matplotlib import pylab as plt"
   ]
  },
  {
   "cell_type": "code",
   "execution_count": 2,
   "metadata": {
    "collapsed": true
   },
   "outputs": [],
   "source": [
    "import numpy as np\n",
    "import theano\n",
    "import theano.tensor as T\n",
    "import lasagne "
   ]
  },
  {
   "cell_type": "markdown",
   "metadata": {},
   "source": [
    "## Infinite factor model\n",
    "\n",
    "We have the following matrix factor model:\n",
    "\n",
    "$$X = UV^T + \\epsilon$$\n",
    "\n",
    "for $U$ an $N\\times K$ matrix and $V$ a $P\\times K$ matrix, and $\\epsilon_{i,j}\\sim N(0,s)$. We use the following prior:\n",
    "\n",
    "$$U_{ij} \\sim N\\left(0,\\left(\\gamma_{ij}\\prod_{\\ell=1}^j \\delta_\\ell\\right)^{-1}\\right)$$\n",
    "$$V_{ij}\\sim N(0,1)$$\n",
    "$$\\gamma_{ij} \\sim \\text{Gamma}(1/2,1/2)$$\n",
    "$$\\delta_1 \\sim \\text{Gamma}(a_1,1)$$\n",
    "$$\\delta_\\ell \\sim \\text{Gamma}(a_2,1) \\quad \\ell\\geq 2$$\n",
    "$$a_1 \\sim \\text{Gamma}(1,b)$$\n",
    "$$a_2 \\sim \\text{Gamma}(1,b)$$\n",
    "$$s \\sim \\text{Exp}(1).$$\n",
    "\n",
    "Our variational approximation $q$ of the posterior $p$ makes the rows of $U$ and $V$ independent multivariate normals, and all the other parameters, which are strictly positive, independent and log-normal. We call the variational parameters collectively $\\lambda$.\n",
    "\n",
    "The Evidence Lower Bound (ELBO) is\n",
    "\n",
    "$$\\mathcal L(\\lambda) = E_q(\\log p) - E_q(\\log q) = E_q(\\log p) + H(q). $$\n",
    "\n",
    "We have \n",
    "\n",
    "$$H(q) = C + \\sum_{i=1}^N \\frac{1}{2}\\log |\\Sigma_{U_i}| + \\sum_{j=1}^P \\frac{1}{2}\\log |\\Sigma_{V_j}| \n",
    "          + \\sum_{\\ell=1}^K \\sum_{i=1}^N \\log(\\sigma_{\\gamma_{i \\ell}}) + \\mu_{\\gamma_{i \\ell}} \n",
    "          + \\sum_{\\ell=1}^K \\log(\\sigma_{\\delta_\\ell}) + \\mu_{\\delta_\\ell} \n",
    "          + \\log(\\sigma_{a_1}) + \\mu_{a_1}\n",
    "          + \\log(\\sigma_{a_2}) + \\mu_{a_2}\n",
    "          + \\log(\\sigma_{s}) + \\mu_{s}\n",
    "$$         \n",
    "\n",
    "where $C$ collects constants that do not depend on the variational parameters. Now,\n",
    "\n",
    "$$\\nabla_\\lambda \\mathcal L(\\lambda) = \\nabla_\\lambda E_q(\\log p) + \\nabla_\\lambda H(q). $$\n",
    "\n",
    "Let all the normal parameters be transforms of a standard normal variate, e.g. $U_i = \\mu_{U_i} + \\Sigma_{U_i}^{1/2}Z_{U_i}$, or $\\log(\\delta_\\ell) = \\mu_{\\delta_\\ell} + \\sigma_{\\delta_\\ell}z_{\\delta_\\ell}$, and let $E$ denote the expectation with respect to these standard variates. The first term in the gradient can be written \n",
    "\n",
    "$$ \\nabla_\\lambda E_q(\\log p) = E( \\nabla_\\lambda \\log p ),$$\n",
    "\n",
    "where on the right hand side, we take the expectation with respect to the standard variates and write $\\log p$ as a function of the variational parameters:\n",
    "\n",
    "$$ \\log p = - \\frac{1}{2s}\\| X-UV^T \\|^2 - \\frac{N\\times P}{2}\\log s - s\n",
    "            - \\frac{1}{2}\\sum_{i=1}^n\\sum_{j = 1}^k  U_{ij}^2\\gamma_{ij}\\prod_{\\ell=1}^j \\delta_\\ell\n",
    "            - \\frac{1}{2}\\sum_{i=1}^p\\sum_{j = 1}^k  V_{ij}^2 \\qquad \\qquad \\qquad  \\qquad \\qquad \\qquad  \\qquad $$\n",
    "$$          - b a_1 - b a_2 -\\frac{1}{2}\\sum_{i\\leq N, j\\leq P} \\left( \\log \\gamma_{ij} - \\gamma_{ij}\\right)\n",
    "            - \\log\\Gamma(a_1) + (a_1-1)\\log\\delta_1 -\\delta_1 \n",
    "            + \\sum_{1<\\ell\\leq K}\\left( \\log\\Gamma(a_2) +(a_2-1) \\log\\delta_\\ell -\\delta_\\ell \\right).\n",
    "$$\n",
    "\n",
    "The expectation of the gradient of the log posterior will be estimated using a single sample of the standard variates."
   ]
  },
  {
   "cell_type": "code",
   "execution_count": 3,
   "metadata": {
    "collapsed": false
   },
   "outputs": [],
   "source": [
    "# Syntactic sugar for shared variable\n",
    "Shared = lambda shape,name: theano.shared(value = np.ones(shape,dtype=theano.config.floatX),\n",
    "                                          name=name,borrow=True) \n",
    "\n",
    "# Define dimensions\n",
    "N = 50\n",
    "P = 100\n",
    "K = 10\n",
    "\n",
    "# Read data. In this example, X = 1 . 1^T, a rank 1 matrix \n",
    "X = theano.shared(np.ones((N,P),dtype=theano.config.floatX))\n",
    "\n",
    "# Define variational parameters\n",
    "mU = Shared((N,K),\"mU\")\n",
    "mV = Shared((P,K),\"mV\")\n",
    "sU = Shared((N,K,K),\"sU\")                     # Factors for covariance \n",
    "sV = Shared((P,K,K),\"sV\")                     # matrices of rows of U and V\n",
    "sU.set_value([np.eye(K) for i in range(N)])\n",
    "sV.set_value([np.eye(K) for i in range(P)])\n",
    "mDelta = Shared((K),\"mDelta\")\n",
    "sDelta = Shared((K),\"sDelta\")\n",
    "mGamma = Shared((N,K),\"mGamma\")\n",
    "sGamma = Shared((N,K),\"sGamma\")\n",
    "ma1 = Shared((1),\"ma1\")\n",
    "sa1 = Shared((1),\"sa1\")\n",
    "ma2 = Shared((1),\"ma2\")\n",
    "sa2 = Shared((1),\"sa2\")\n",
    "ms = Shared((1),\"ms\")\n",
    "ss = Shared((1),\"ss\")\n",
    "\n",
    "# Define a stream of random numbers\n",
    "srng = T.shared_randomstreams.RandomStreams(seed=234)\n",
    "\n",
    "# Define model parameters \n",
    "## Standard versions:\n",
    "zU = srng.normal((N,K))\n",
    "zV = srng.normal((P,K))\n",
    "zGamma = srng.normal((N,K))\n",
    "zDelta = srng.normal([K])\n",
    "za1 = srng.normal([1])\n",
    "za2 = srng.normal([1])\n",
    "zs = srng.normal([1])\n",
    "## Non-standard versions:\n",
    "U = mU+T.batched_dot(zU,sU) \n",
    "V = mV+T.batched_dot(zV,sV)\n",
    "Gamma = T.exp(mGamma + sGamma*zGamma)   # The variables Gamma, Delta,\n",
    "Delta = T.exp(mDelta + sDelta*zDelta)   # a1, a2, and s have a log-normal\n",
    "a1 = T.exp(ma1 + sa1*za1)               # variational posterior\n",
    "a2 = T.exp(ma2 + sa2*za2)\n",
    "s = T.exp(ms + ss*zs)\n",
    "\n",
    "# Define lists\n",
    "vParams = [mU,mV,sU,sV,mDelta,sDelta,mGamma,sGamma,ma1,sa1,ma2,sa2,ms,ss]\n",
    "mParams = [U,V,Gamma,Delta,a1,a2,s]\n",
    "            \n",
    "def Entropy(N,P,K,vParams):\n",
    "    \"\"\"\n",
    "    Defines entropy of variational posterior (up to a constant)\n",
    "    \"\"\"\n",
    "    mU,mV,sU,sV,mDelta,sDelta,mGamma,sGamma,ma1,sa1,ma2,sa2,ms,ss = vParams\n",
    "    outputs, updates = theano.scan(lambda i,y: T.log(T.nlinalg.Det()(T.dot(sU[i,:,:].T,sU[i,:,:])))/2+y,\n",
    "                                   sequences = [dict(input=np.arange(N) ,taps=[-1])], \n",
    "                                   outputs_info = [dict(initial= np.float64(0) ,taps=[-1])] )\n",
    "    outputs, updates = theano.scan(lambda i,y: T.log(T.nlinalg.Det()(T.dot(sV[i,:,:].T,sV[i,:,:])))/2+y,\n",
    "                                   sequences = [dict(input=np.arange(P) ,taps=[-1])], \n",
    "                                   outputs_info = [dict(initial= outputs[-1] ,taps=[-1])] )\n",
    "    ent = outputs[-1]\n",
    "    ent += T.log(sGamma).sum() + mGamma.sum() \\\n",
    "          + T.log(sDelta).sum() + mDelta.sum() \\\n",
    "          + T.log(T.abs_(sa1)) + ma1 + T.log(T.abs_(sa2)) + ma2  + T.log(T.abs_(ss)) + ms\n",
    "    return(ent)\n",
    "        \n",
    "def LogP(N,P,K,X,mParams,vParams):\n",
    "    \"\"\"\n",
    "    Defines the log posterior (up to a constant)\n",
    "    \"\"\"\n",
    "    mU,mV,sU,sV,mDelta,sDelta,mGamma,sGamma,ma1,sa1,ma2,sa2,ms,ss = vParams\n",
    "    U,V,Gamma,Delta,a1,a2,s = mParams\n",
    "    b = 1\n",
    "    logP = - T.sqr(X-T.dot(U,V.T)).sum()/(2*s) - (N*P)*T.log(s)/2 - s \\\n",
    "           - (T.sqr(U)*Delta.cumprod()*Gamma).sum()/2 \\\n",
    "           + T.log(Delta.cumprod()*Gamma).sum()/2 \\\n",
    "           - (T.sqr(V)).sum()/2 \\\n",
    "           - b*a1 - b*a2 - T.log(Gamma).sum()/2 - Gamma.sum()/2 \\\n",
    "           - T.gammaln(a1) + (a1-1)*T.log(Delta[0]) - Delta[0] \\\n",
    "           - T.gammaln(a2)*(K-1) + (a2-1)*T.log(Delta[1:]).sum() - Delta[1:].sum()\n",
    "    return(logP)\n",
    "            \n",
    "def ELBO(N,P,K,X,mParams,vParams):\n",
    "    return(LogP(N,P,K,X,mParams,vParams)[0]+Entropy(N,P,K,vParams)[0])"
   ]
  },
  {
   "cell_type": "code",
   "execution_count": 4,
   "metadata": {
    "collapsed": false
   },
   "outputs": [],
   "source": [
    "# Lasagne does gradient descent, so the cost we minimize is the *negative* ELBO \n",
    "elbo = ELBO(N,P,K,X,mParams,vParams)\n",
    "vParamUpdates = lasagne.updates.adadelta(-elbo,vParams)\n",
    "AdaDeltaStep = theano.function(inputs=[],updates=vParamUpdates)"
   ]
  },
  {
   "cell_type": "code",
   "execution_count": 5,
   "metadata": {
    "collapsed": false
   },
   "outputs": [
    {
     "name": "stdout",
     "output_type": "stream",
     "text": [
      "CPU times: user 4min 52s, sys: 1.82 s, total: 4min 54s\n",
      "Wall time: 5min 6s\n"
     ]
    }
   ],
   "source": [
    "%%time\n",
    "counter = 0\n",
    "ELBOlist = []\n",
    "keepUpdating = True\n",
    "while keepUpdating:\n",
    "    \n",
    "    AdaDeltaStep()\n",
    "    \n",
    "    # Estimate ELBO by Monte Carlo every 20 steps\n",
    "    if counter%20==0:\n",
    "        ELBOlist.append(np.mean([elbo.eval() for i in range(10)]))\n",
    "    \n",
    "    keepUpdating = False if counter>20000 else True\n",
    "    counter += 1"
   ]
  },
  {
   "cell_type": "code",
   "execution_count": 101,
   "metadata": {
    "collapsed": false
   },
   "outputs": [
    {
     "data": {
      "text/plain": [
       "array([  2.92449594,  13.86861627,  13.59180294,   3.00357889,\n",
       "         1.25214395,   1.00966683,   0.55688106,   0.14132028,\n",
       "         0.06794428,   0.37358799])"
      ]
     },
     "execution_count": 101,
     "metadata": {},
     "output_type": "execute_result"
    }
   ],
   "source": [
    "# This is the posterior mean of Delta\n",
    "np.exp(mDelta.eval()+sDelta.eval()**2/2)"
   ]
  },
  {
   "cell_type": "code",
   "execution_count": 102,
   "metadata": {
    "collapsed": false
   },
   "outputs": [
    {
     "data": {
      "text/plain": [
       "array([[ 1.00547908,  0.99674156,  1.00389294, ...,  1.00889308,\n",
       "         1.01246196,  1.00522474],\n",
       "       [ 0.98208853,  0.97358375,  0.97994651, ...,  0.98648441,\n",
       "         0.98958104,  0.98312399],\n",
       "       [ 1.00115643,  0.99253686,  0.99968575, ...,  1.00452786,\n",
       "         1.00847194,  1.00088442],\n",
       "       ..., \n",
       "       [ 1.00589885,  0.99682222,  1.00417996, ...,  1.00970723,\n",
       "         1.01304432,  1.00565088],\n",
       "       [ 1.00209112,  0.9930589 ,  1.00005166, ...,  1.00604774,\n",
       "         1.00931716,  1.00244517],\n",
       "       [ 1.00171167,  0.99343292,  1.00027839, ...,  1.00541091,\n",
       "         1.00893671,  1.00157931]])"
      ]
     },
     "execution_count": 102,
     "metadata": {},
     "output_type": "execute_result"
    }
   ],
   "source": [
    "# The mean of X is close to the true X\n",
    "np.dot(mU.eval(),mV.eval().T)"
   ]
  },
  {
   "cell_type": "code",
   "execution_count": 16,
   "metadata": {
    "collapsed": false
   },
   "outputs": [
    {
     "data": {
      "image/png": "[encoded data removed]",
      "text/plain": [
       "<matplotlib.figure.Figure at 0x114b0c350>"
      ]
     },
     "metadata": {},
     "output_type": "display_data"
    }
   ],
   "source": [
    "# And the factors reveal the rank 1 structure \n",
    "hinton(mU.eval())"
   ]
  },
  {
   "cell_type": "code",
   "execution_count": 17,
   "metadata": {
    "collapsed": false
   },
   "outputs": [
    {
     "data": {
      "image/png": "[encoded data removed]",
      "text/plain": [
       "<matplotlib.figure.Figure at 0x1145ebb10>"
      ]
     },
     "metadata": {},
     "output_type": "display_data"
    }
   ],
   "source": [
    "hinton(mV.eval())"
   ]
  },
  {
   "cell_type": "code",
   "execution_count": 105,
   "metadata": {
    "collapsed": false
   },
   "outputs": [
    {
     "data": {
      "text/plain": [
       "array([ 0.00115952])"
      ]
     },
     "execution_count": 105,
     "metadata": {},
     "output_type": "execute_result"
    }
   ],
   "source": [
    "# We can check that the variance s of the noise in X is small\n",
    "s.eval()"
   ]
  },
  {
   "cell_type": "code",
   "execution_count": 117,
   "metadata": {
    "collapsed": false
   },
   "outputs": [
    {
     "data": {
      "text/plain": [
       "<matplotlib.text.Text at 0x10dcf7dd0>"
      ]
     },
     "execution_count": 117,
     "metadata": {},
     "output_type": "execute_result"
    },
    {
     "data": {
      "image/png": "[encoded data removed]",
      "text/plain": [
       "<matplotlib.figure.Figure at 0x10f9eed90>"
      ]
     },
     "metadata": {},
     "output_type": "display_data"
    }
   ],
   "source": [
    "# Finally, we plot the ELBO against iteration\n",
    "fig = plt.figure()\n",
    "ax = fig.add_subplot(111)\n",
    "ax.plot(range(0,10001,20),ELBOlist)\n",
    "ax.set_xlabel(\"Iteration\")\n",
    "ax.set_ylabel(\"ELBO (up to constant)\")"
   ]
  },
  {
   "cell_type": "code",
   "execution_count": 118,
   "metadata": {
    "collapsed": false
   },
   "outputs": [
    {
     "data": {
      "text/plain": [
       "<matplotlib.text.Text at 0x10f3071d0>"
      ]
     },
     "execution_count": 118,
     "metadata": {},
     "output_type": "execute_result"
    },
    {
     "data": {
      "image/png": "[encoded data removed]",
      "text/plain": [
       "<matplotlib.figure.Figure at 0x10f355250>"
      ]
     },
     "metadata": {},
     "output_type": "display_data"
    }
   ],
   "source": [
    "# Zooming into the last ~7000 iterations\n",
    "fig = plt.figure()\n",
    "ax = fig.add_subplot(111)\n",
    "ax.plot(range(0,10001,20)[-7000/20:],ELBOlist[-7000/20:])\n",
    "ax.set_xlabel(\"Iteration\")\n",
    "ax.set_ylabel(\"ELBO (up to constant)\")"
   ]
  },
  {
   "cell_type": "markdown",
   "metadata": {},
   "source": [
    "### Hinton Plotting of NumPy arrays"
   ]
  },
  {
   "cell_type": "code",
   "execution_count": 15,
   "metadata": {
    "collapsed": true
   },
   "outputs": [],
   "source": [
    "def hinton(matrix, max_weight=None, ax=None):\n",
    "    \"\"\"Draw Hinton diagram for visualizing a weight matrix.\"\"\"\n",
    "    ax = ax if ax is not None else plt.gca()\n",
    "\n",
    "    if not max_weight:\n",
    "        max_weight = 2**np.ceil(np.log(np.abs(matrix).max())/np.log(2))\n",
    "\n",
    "    ax.patch.set_facecolor('gray')\n",
    "    ax.set_aspect('equal', 'box')\n",
    "    ax.xaxis.set_major_locator(plt.NullLocator())\n",
    "    ax.yaxis.set_major_locator(plt.NullLocator())\n",
    "\n",
    "    for (x, y), w in np.ndenumerate(matrix):\n",
    "        color = 'white' if w > 0 else 'black'\n",
    "        size = np.sqrt(np.abs(w))\n",
    "        rect = plt.Rectangle([y - size / 2, x - size / 2], size, size,\n",
    "                             facecolor=color, edgecolor=color)\n",
    "        ax.add_patch(rect)\n",
    "\n",
    "    ax.autoscale_view()\n",
    "    ax.invert_yaxis()"
   ]
  }
 ],
 "metadata": {
  "kernelspec": {
   "display_name": "Python 2",
   "language": "python",
   "name": "python2"
  },
  "language_info": {
   "codemirror_mode": {
    "name": "ipython",
    "version": 2
   },
   "file_extension": ".py",
   "mimetype": "text/x-python",
   "name": "python",
   "nbconvert_exporter": "python",
   "pygments_lexer": "ipython2",
   "version": "2.7.10"
  }
 },
 "nbformat": 4,
 "nbformat_minor": 0
}
