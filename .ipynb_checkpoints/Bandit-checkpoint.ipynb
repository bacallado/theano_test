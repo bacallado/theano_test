{
 "cells": [
  {
   "cell_type": "markdown",
   "metadata": {},
   "source": [
    "## Bandit Simulation Study"
   ]
  },
  {
   "cell_type": "code",
   "execution_count": 66,
   "metadata": {
    "collapsed": false
   },
   "outputs": [
    {
     "name": "stdout",
     "output_type": "stream",
     "text": [
      "Populating the interactive namespace from numpy and matplotlib\n"
     ]
    }
   ],
   "source": [
    "%pylab inline\n",
    "import numpy as np\n",
    "import matplotlib.pyplot as plt\n",
    "import numpy.random as random\n",
    "from sklearn.decomposition import PCA"
   ]
  },
  {
   "cell_type": "markdown",
   "metadata": {},
   "source": [
    "Suppose we have \n",
    "$$X=UV^{T}$$\n",
    "where $U \\in \\mathbb{R}^{NxK}$ and $V \\in \\mathbb{R}^{PxK}$\n",
    "In each step, we want to choose an entry of $X$ to observe so that the average of the observed entries is as large as possible. We compare three methods: choosing the entries in descending order (the best solution), choosing the entries randomly, and choosing the entries using PCA.  "
   ]
  },
  {
   "cell_type": "code",
   "execution_count": 122,
   "metadata": {
    "collapsed": false
   },
   "outputs": [],
   "source": [
    "#Define Dimensions, K is true rank of matrix X, pcaK is rank of the matrix estimated by PCA,\n",
    "#initialLength is the number of entries of X observed before the first iteration of PCA\n",
    "N=10\n",
    "P=8\n",
    "K=1\n",
    "pcaK=K\n",
    "initialLength=int(np.ceil(0.2*np.sqrt(N*P)))\n",
    "\n",
    "#Generate matrix X, whose entries should be positive\n",
    "VectorOne=np.zeros((P,K))\n",
    "for k in range(K):\n",
    "    VectorOne[:,k]=np.random.multivariate_normal(3*np.ones(P), np.identity(P))\n",
    "VectorTwo=np.zeros((N,K))\n",
    "for k in range(K):\n",
    "    VectorTwo[:,k]=np.random.multivariate_normal(3*np.ones(N), np.identity(N))\n",
    "X=np.dot(VectorTwo, np.transpose(VectorOne))\n",
    "\n",
    "\n",
    "#Calculate average rating in iteration i as (sum of entries observed after ith iteration)/(N*P)\n",
    "\n",
    "#Best possible solution\n",
    "sortX=np.asarray(list(reversed(np.sort(X, axis=None))))\n",
    "bestCase=(1.0/(N*P))*np.cumsum(sortX)\n",
    "\n",
    "#Choosing the entries to observe in random order \n",
    "R=20\n",
    "np.random.shuffle(sortX)\n",
    "randomCase=(1.0/(N*P))*np.cumsum(sortX)\n",
    "for r in range(R-1):\n",
    "    np.random.shuffle(sortX)\n",
    "    randomCase += (1.0/(N*P))*np.cumsum(sortX)\n",
    "randomCase=(1.0/R)*randomCase"
   ]
  },
  {
   "cell_type": "markdown",
   "metadata": {},
   "source": [
    "Now we choose the entries using PCA. First we observe some number of entries of X randomly. Then we let $X_{i}$ be the matrix of all zeros except the entries that have been observed by iteration i. Using PCA we find $U_{i}$ and $V_{i}$ such that $X_{i}=U_{i}V_{i}^{T}$. We put a threshold on the number of components of $U_{i}$ and $V_{i}$, with this threshold we obtain an estimate of $X_{i}$ as $X_{i}'$. We choose our next entry to observe to be the largest unobserved entry of $X_{i}'$. "
   ]
  },
  {
   "cell_type": "code",
   "execution_count": 123,
   "metadata": {
    "collapsed": true
   },
   "outputs": [],
   "source": [
    "#PCA Method\n",
    "def PCArecommend(fn_components, observedX, index_list, ratings):\n",
    "    observedX0=observedX-np.mean(observedX, axis=0)\n",
    "    pca = PCA(n_components=fn_components)\n",
    "    U=pca.fit_transform(observedX0)\n",
    "    V=pca.components_\n",
    "    Xsparsenew=np.dot(U,V)+np.mean(observedX, axis=0)\n",
    "    index=np.argmax(Xsparsenew)\n",
    "    dummyX=np.zeros((N,P))\n",
    "    for n in range(N):\n",
    "        for p in range(P):\n",
    "            dummyX[n,p]=Xsparsenew[n,p]\n",
    "    while np.any(index_list==index):\n",
    "        dummyX[int(np.floor(index/P)), index-(P*int(np.floor(index/P)))]=-100\n",
    "        index=np.argmax(dummyX)\n",
    "    observedX[int(np.floor(index/P)), index-(P*int(np.floor(index/P)))]=X[int(np.floor(index/P)), index-(P*int(np.floor(index/P)))]\n",
    "    ratings.append(X[int(np.floor(index/P)), index-(P*int(np.floor(index/P)))])\n",
    "    index_list.append(index)\n",
    "    return observedX, index_list, ratings\n",
    "\n",
    "R = 20\n",
    "pcaCase = np.zeros(N*P)\n",
    "for i in range(R):\n",
    "    #For PCA method, first observe some entries of X randomly\n",
    "    randomlist1=random.choice(N,initialLength)\n",
    "    randomlist2=random.choice(P,initialLength)\n",
    "    observedX=np.zeros((N,P))\n",
    "    index_list=np.empty([0]).tolist()\n",
    "    ratings=np.empty([0]).tolist()\n",
    "    for i in range(initialLength):\n",
    "        observedX[randomlist1[i], randomlist2[i]]=X[randomlist1[i], randomlist2[i]]\n",
    "        index_list.append(int(P*randomlist1[i]+randomlist2[i]))\n",
    "        ratings.append(X[randomlist1[i], randomlist2[i]])\n",
    "    \n",
    "    #PCA Method\n",
    "    while np.asarray(index_list).size < N*P:\n",
    "        observedX, index_list, ratings=PCArecommend(pcaK, observedX, index_list, ratings)\n",
    "\n",
    "    pcaCase += (1.0/(N*P))*np.cumsum(np.asarray(ratings))\n",
    "    \n",
    "pcaCase = pcaCase/R"
   ]
  },
  {
   "cell_type": "markdown",
   "metadata": {},
   "source": [
    "## Nuclear norm minimisation\n",
    "\n",
    "The function below does matrix completion through nuclear norm minimisation, using the package 'cvxpy'. It solves the following problem:\n",
    "\n",
    "$$\\text{Minimise } \\|S\\| $$\n",
    "$$\\text{such that } |S_{ij}-X_{ij}|\\leq \\epsilon \\text{ for all } X_{ij} \\text{ observed}.$$\n",
    "\n",
    "Here, $\\epsilon$ is an error tolerance --- the higher $\\epsilon$, the smaller the nuclear norm of the solution. This tuning parameter could be adjusted to optimise the performance of the bandit algorithm."
   ]
  },
  {
   "cell_type": "code",
   "execution_count": 124,
   "metadata": {
    "collapsed": false
   },
   "outputs": [],
   "source": [
    "from __future__ import absolute_import, print_function, division\n",
    "import cvxpy\n",
    "\n",
    "class NuclearNormMinimization:\n",
    "    \"\"\"\n",
    "    Simple implementation of \"Exact Matrix Completion via Convex Optimization\"\n",
    "    by Emmanuel Candes and Benjamin Recht using cvxpy.\n",
    "    \"\"\"\n",
    "\n",
    "    def __init__(\n",
    "            self,\n",
    "            require_symmetric_solution=False,\n",
    "            min_value=None,\n",
    "            max_value=None,\n",
    "            error_tolerance=0.0001,\n",
    "            fast_but_approximate=True,\n",
    "            verbose=True):\n",
    "        \"\"\"\n",
    "        Parameters\n",
    "        ----------\n",
    "        require_symmetric_solution : bool\n",
    "            Add symmetry constraint to convex problem\n",
    "        min_value : float\n",
    "            Smallest possible imputed value\n",
    "        max_value : float\n",
    "            Largest possible imputed value\n",
    "        error_tolerance : bool\n",
    "            Degree of error allowed on reconstructed values. If omitted then\n",
    "            defaults to 0.0001\n",
    "        fast_but_approximate : bool\n",
    "            Use the faster but less accurate Splitting Cone Solver\n",
    "        verbose : bool\n",
    "            Print debug info\n",
    "        \"\"\"\n",
    "        self.min_value=min_value\n",
    "        self.max_value=max_value\n",
    "        self.require_symmetric_solution = require_symmetric_solution\n",
    "        self.error_tolerance = error_tolerance\n",
    "        self.fast_but_approximate = fast_but_approximate\n",
    "        self.verbose = verbose\n",
    "\n",
    "    def _constraints(self, X, missing_mask, S, error_tolerance):\n",
    "        \"\"\"\n",
    "        Parameters\n",
    "        ----------\n",
    "        X : np.array\n",
    "            Data matrix with missing values filled in\n",
    "        missing_mask : np.array\n",
    "            Boolean array indicating where missing values were\n",
    "        S : cvxpy.Variable\n",
    "            Representation of solution variable\n",
    "        \"\"\"\n",
    "        ok_mask = ~missing_mask\n",
    "        masked_X = cvxpy.mul_elemwise(ok_mask, X)\n",
    "        masked_S = cvxpy.mul_elemwise(ok_mask, S)\n",
    "        abs_diff = cvxpy.abs(masked_S - masked_X)\n",
    "        close_to_data = abs_diff <= error_tolerance\n",
    "        constraints = [close_to_data]\n",
    "        if self.require_symmetric_solution:\n",
    "            constraints.append(S == S.T)\n",
    "\n",
    "        if self.min_value is not None:\n",
    "            constraints.append(S >= self.min_value)\n",
    "\n",
    "        if self.max_value is not None:\n",
    "            constraints.append(S <= self.max_value)\n",
    "\n",
    "        return constraints\n",
    "\n",
    "    def _create_objective(self, m, n):\n",
    "        \"\"\"\n",
    "        Parameters\n",
    "        ----------\n",
    "        m, n : int\n",
    "            Dimensions that of solution matrix\n",
    "        Returns the objective function and a variable representing the\n",
    "        solution to the convex optimization problem.\n",
    "        \"\"\"\n",
    "        # S is the completed matrix\n",
    "        S = cvxpy.Variable(m, n, name=\"S\")\n",
    "        norm = cvxpy.norm(S, \"nuc\")\n",
    "        objective = cvxpy.Minimize(norm)\n",
    "        return S, objective\n",
    "\n",
    "    def solve(self, X, missing_mask):\n",
    "        m, n = X.shape\n",
    "        S, objective = self._create_objective(m, n)\n",
    "        constraints = self._constraints(\n",
    "            X=X,\n",
    "            missing_mask=missing_mask,\n",
    "            S=S,\n",
    "            error_tolerance=self.error_tolerance)\n",
    "        problem = cvxpy.Problem(objective, constraints)\n",
    "        #print(problem)\n",
    "        problem.solve(\n",
    "            verbose=self.verbose,\n",
    "            # SCS solver is known to be faster but less exact\n",
    "            solver=cvxpy.SCS if self.fast_but_approximate else None)\n",
    "        return S.value\n",
    "    "
   ]
  },
  {
   "cell_type": "code",
   "execution_count": 125,
   "metadata": {
    "collapsed": false
   },
   "outputs": [],
   "source": [
    "def NNrecommend(observedX, index_list, ratings):\n",
    "    solver = NuclearNormMinimization(min_value=-20,max_value=20,verbose=False,error_tolerance=0.3)\n",
    "    unobservedMask = np.isnan(observedX) \n",
    "    Xsparsenew = solver.solve(np.nan_to_num(observedX),unobservedMask)\n",
    "    Xsparsenew[~unobservedMask] = -inf\n",
    "    index=np.argmax(Xsparsenew)\n",
    "    i,j = int(np.floor(index/P)), index-(P*int(np.floor(index/P)))\n",
    "    observedX[i,j]=X[i,j]\n",
    "    ratings.append(X[i,j])\n",
    "    index_list.append(index)\n",
    "    return observedX, index_list, ratings\n",
    "\n",
    "R=20\n",
    "nnCase = np.zeros(N*P)\n",
    "for i in range(R):\n",
    "\n",
    "    #For NN method, first observe some entries of X randomly\n",
    "    randomlist1=random.choice(N,initialLength)\n",
    "    randomlist2=random.choice(P,initialLength)\n",
    "    observedX=np.zeros((N,P))\n",
    "    observedX[:,:] = nan\n",
    "    index_list=np.empty([0]).tolist()\n",
    "    ratings=np.empty([0]).tolist()\n",
    "    for i in range(initialLength):\n",
    "        observedX[randomlist1[i], randomlist2[i]]=X[randomlist1[i], randomlist2[i]]\n",
    "        index_list.append(int(P*randomlist1[i]+randomlist2[i]))\n",
    "        ratings.append(X[randomlist1[i], randomlist2[i]])\n",
    "    \n",
    "    #NN Method\n",
    "    while np.asarray(index_list).size < N*P:\n",
    "        observedX, index_list, ratings=NNrecommend(observedX, index_list, ratings)\n",
    "\n",
    "    nnCase += (1.0/(N*P))*np.cumsum(np.asarray(ratings))\n",
    "nnCase = nnCase/R"
   ]
  },
  {
   "cell_type": "markdown",
   "metadata": {},
   "source": [
    "### Plots"
   ]
  },
  {
   "cell_type": "code",
   "execution_count": 126,
   "metadata": {
    "collapsed": false
   },
   "outputs": [
    {
     "data": {
      "text/plain": [
       "<matplotlib.legend.Legend at 0x110df7210>"
      ]
     },
     "execution_count": 126,
     "metadata": {},
     "output_type": "execute_result"
    },
    {
     "data": {
      "image/png": "[encoded data removed]",
      "text/plain": [
       "<matplotlib.figure.Figure at 0x110c20990>"
      ]
     },
     "metadata": {},
     "output_type": "display_data"
    }
   ],
   "source": [
    "fig=plt.figure()\n",
    "ax = fig.add_subplot(111)\n",
    "ax.plot(bestCase, label='best')\n",
    "ax.plot(randomCase, label='random')\n",
    "ax.plot(pcaCase, label='pca')\n",
    "ax.plot(nnCase, label='nn')\n",
    "ax.legend(loc='center left', bbox_to_anchor=(0.8, 0.4))"
   ]
  },
  {
   "cell_type": "code",
   "execution_count": null,
   "metadata": {
    "collapsed": true
   },
   "outputs": [],
   "source": []
  }
 ],
 "metadata": {
  "kernelspec": {
   "display_name": "Python 2",
   "language": "python",
   "name": "python2"
  },
  "language_info": {
   "codemirror_mode": {
    "name": "ipython",
    "version": 2
   },
   "file_extension": ".py",
   "mimetype": "text/x-python",
   "name": "python",
   "nbconvert_exporter": "python",
   "pygments_lexer": "ipython2",
   "version": "2.7.10"
  }
 },
 "nbformat": 4,
 "nbformat_minor": 0
}
