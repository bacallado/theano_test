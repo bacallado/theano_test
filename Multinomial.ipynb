{
 "cells": [
  {
   "cell_type": "code",
   "execution_count": 1,
   "metadata": {
    "collapsed": false
   },
   "outputs": [
    {
     "name": "stdout",
     "output_type": "stream",
     "text": [
      "Populating the interactive namespace from numpy and matplotlib\n"
     ]
    }
   ],
   "source": [
    "%pylab inline\n",
    "from matplotlib import pylab as plt"
   ]
  },
  {
   "cell_type": "code",
   "execution_count": 2,
   "metadata": {
    "collapsed": true
   },
   "outputs": [],
   "source": [
    "import numpy as np\n",
    "import theano\n",
    "import theano.tensor as T\n",
    "import lasagne "
   ]
  },
  {
   "cell_type": "markdown",
   "metadata": {},
   "source": [
    "## Multinomial factor model\n",
    "\n",
    "We have the following matrix factor model:\n",
    "\n",
    "$$X = UV^T$$\n",
    "\n",
    "for $U$ an $N\\times K$ matrix and $V$ a $P\\times K$ matrix. We observe a matrix $Y$ of the same shape as $X$, where each column\n",
    "\n",
    "$$Y_{\\cdot,j} \\sim \\text{Multinomial}(n_j ; \\pi_{1j},\\dots,\\pi_{Nj}),$$\n",
    "$$\\pi_{i,j} = \\frac{g(X_{ij})}{\\sum_{i'}g(X_{i'j})}, $$\n",
    "$$g(z) = \\frac{z}{1-e^{-C z}}.$$\n",
    "\n",
    "We use the following prior:\n",
    "\n",
    "$$U_{ij} \\sim N\\left(0,\\left(\\gamma_{ij}\\prod_{\\ell=1}^j \\delta_\\ell\\right)^{-1}\\right)$$\n",
    "$$V_{ij}\\sim N(0,1)$$\n",
    "$$\\gamma_{ij} \\sim \\text{Gamma}(1/2,1/2)$$\n",
    "$$\\delta_1 \\sim \\text{Gamma}(a_1,1)$$\n",
    "$$\\delta_\\ell \\sim \\text{Gamma}(a_2,1) \\quad \\ell\\geq 2$$\n",
    "$$a_1 \\sim \\text{Gamma}(1,b)$$\n",
    "$$a_2 \\sim \\text{Gamma}(1,b).$$\n",
    "\n",
    "Our variational approximation $q$ of the posterior $p$ makes the rows of $U$ and $V$ independent multivariate normals, and all the other parameters, which are strictly positive, independent and log-normal. We call the variational parameters collectively $\\lambda$.\n",
    "\n",
    "The Evidence Lower Bound (ELBO) is\n",
    "\n",
    "$$\\mathcal L(\\lambda) = E_q(\\log p) - E_q(\\log q) = E_q(\\log p) + H(q). $$\n",
    "\n",
    "We have \n",
    "\n",
    "$$H(q) = C + \\sum_{i=1}^N \\frac{1}{2}\\log |\\Sigma_{U_i}| + \\sum_{j=1}^P \\frac{1}{2}\\log |\\Sigma_{V_j}| \n",
    "          + \\sum_{\\ell=1}^K \\sum_{i=1}^N \\log(\\sigma_{\\gamma_{i \\ell}}) + \\mu_{\\gamma_{i \\ell}} \n",
    "          + \\sum_{\\ell=1}^K \\log(\\sigma_{\\delta_\\ell}) + \\mu_{\\delta_\\ell} \n",
    "          + \\log(\\sigma_{a_1}) + \\mu_{a_1}\n",
    "          + \\log(\\sigma_{a_2}) + \\mu_{a_2}\n",
    "          + \\log(\\sigma_{s}) + \\mu_{s}\n",
    "$$         \n",
    "\n",
    "where $C$ collects constants that do not depend on the variational parameters. Now,\n",
    "\n",
    "$$\\nabla_\\lambda \\mathcal L(\\lambda) = \\nabla_\\lambda E_q(\\log p) + \\nabla_\\lambda H(q). $$\n",
    "\n",
    "Let all the normal parameters be transforms of a standard normal variate, e.g. $U_i = \\mu_{U_i} + \\Sigma_{U_i}^{1/2}Z_{U_i}$, or $\\log(\\delta_\\ell) = \\mu_{\\delta_\\ell} + \\sigma_{\\delta_\\ell}z_{\\delta_\\ell}$, and let $E$ denote the expectation with respect to these standard variates. The first term in the gradient can be written \n",
    "\n",
    "$$ \\nabla_\\lambda E_q(\\log p) = E( \\nabla_\\lambda \\log p ),$$\n",
    "\n",
    "where on the right hand side, we take the expectation with respect to the standard variates and write $\\log p$ as a function of the variational parameters:\n",
    "\n",
    "$$ \\log p = \\sum_{i=1}^N\\sum_{j=1}^P Y_{ij}\\log g(U_i V_j^T) - \\sum_{j=1}^P n_j \\log\\left( \\sum_{i=1}^N g(U_iV_j^T) \\right)\n",
    "            - \\frac{1}{2}\\sum_{i=1}^n\\sum_{j = 1}^k  U_{ij}^2\\gamma_{ij}\\prod_{\\ell=1}^j \\delta_\\ell\n",
    "            - \\frac{1}{2}\\sum_{i=1}^p\\sum_{j = 1}^k  V_{ij}^2 \\qquad \\qquad \\qquad  \\qquad \\qquad \\qquad  \\qquad $$\n",
    "$$          - b a_1 - b a_2 -\\frac{1}{2}\\sum_{i\\leq N, j\\leq P} \\left( \\log \\gamma_{ij} - \\gamma_{ij}\\right)\n",
    "            - \\log\\Gamma(a_1) + (a_1-1)\\log\\delta_1 -\\delta_1 \n",
    "            + \\sum_{1<\\ell\\leq K}\\left( \\log\\Gamma(a_2) +(a_2-1) \\log\\delta_\\ell -\\delta_\\ell \\right).\n",
    "$$\n",
    "\n",
    "The expectation of the gradient of the log posterior will be estimated using a single sample of the standard variates."
   ]
  },
  {
   "cell_type": "code",
   "execution_count": 64,
   "metadata": {
    "collapsed": false
   },
   "outputs": [],
   "source": [
    "# Syntactic sugar for shared variable\n",
    "Shared = lambda shape,name: theano.shared(value = np.ones(shape,dtype=theano.config.floatX),\n",
    "                                          name=name,borrow=True) \n",
    "\n",
    "# Define dimensions\n",
    "N = 31\n",
    "P = 900\n",
    "K = 10\n",
    "\n",
    "# Read data. In this example, X = 1 . 1^T, a rank 1 matrix \n",
    "Y = theano.shared(np.ones((N,P),dtype=theano.config.floatX))\n",
    "colSumsY = Shared((P),\"colSumsY\")\n",
    "colSumsY.set_value(Y.sum(0).eval())\n",
    "\n",
    "# Define variational parameters\n",
    "mU = Shared((N,K),\"mU\")\n",
    "mV = Shared((P,K),\"mV\")\n",
    "sU = Shared((N,K,K),\"sU\")                     # Factors for covariance \n",
    "sV = Shared((P,K,K),\"sV\")                     # matrices of rows of U and V\n",
    "sU.set_value([np.eye(K) for i in range(N)])\n",
    "sV.set_value([np.eye(K) for i in range(P)])\n",
    "mDelta = Shared((K),\"mDelta\")\n",
    "sDelta = Shared((K),\"sDelta\")\n",
    "mGamma = Shared((N,K),\"mGamma\")\n",
    "sGamma = Shared((N,K),\"sGamma\")\n",
    "ma1 = Shared((1),\"ma1\")\n",
    "sa1 = Shared((1),\"sa1\")\n",
    "ma2 = Shared((1),\"ma2\")\n",
    "sa2 = Shared((1),\"sa2\")\n",
    "\n",
    "# Define a stream of random numbers\n",
    "srng = T.shared_randomstreams.RandomStreams(seed=234)\n",
    "\n",
    "# Define model parameters \n",
    "## Standard versions:\n",
    "zU = srng.normal((N,K))\n",
    "zV = srng.normal((P,K))\n",
    "zGamma = srng.normal((N,K))\n",
    "zDelta = srng.normal([K])\n",
    "za1 = srng.normal([1])\n",
    "za2 = srng.normal([1])\n",
    "## Non-standard versions:\n",
    "U = mU+T.batched_dot(zU,sU) \n",
    "V = mV+T.batched_dot(zV,sV)\n",
    "Gamma = T.exp(mGamma + sGamma*zGamma)   # The variables Gamma, Delta,\n",
    "Delta = T.exp(mDelta + sDelta*zDelta)   # a1, a2 have a log-normal\n",
    "a1 = T.exp(ma1 + sa1*za1)               # variational posterior\n",
    "a2 = T.exp(ma2 + sa2*za2)\n",
    "\n",
    "# Define lists\n",
    "vParams = [mU,mV,sU,sV,mDelta,sDelta,mGamma,sGamma,ma1,sa1,ma2,sa2]\n",
    "mParams = [U,V,Gamma,Delta,a1,a2]\n",
    "            \n",
    "def Entropy(N,P,K,vParams):\n",
    "    \"\"\"\n",
    "    Defines entropy of variational posterior (up to a constant)\n",
    "    \"\"\"\n",
    "    mU,mV,sU,sV,mDelta,sDelta,mGamma,sGamma,ma1,sa1,ma2,sa2 = vParams\n",
    "    outputs, updates = theano.scan(lambda i,y: T.log(T.nlinalg.Det()(T.dot(sU[i,:,:].T,sU[i,:,:])))/2+y,\n",
    "                                   sequences = [dict(input=np.arange(N) ,taps=[-1])], \n",
    "                                   outputs_info = [dict(initial= np.float64(0) ,taps=[-1])] )\n",
    "    outputs, updates = theano.scan(lambda i,y: T.log(T.nlinalg.Det()(T.dot(sV[i,:,:].T,sV[i,:,:])))/2+y,\n",
    "                                   sequences = [dict(input=np.arange(P) ,taps=[-1])], \n",
    "                                   outputs_info = [dict(initial= outputs[-1] ,taps=[-1])] )\n",
    "    ent = outputs[-1]\n",
    "    ent += T.log(sGamma).sum() + mGamma.sum() \\\n",
    "          + T.log(sDelta).sum() + mDelta.sum() \\\n",
    "          + T.log(T.abs_(sa1)) + ma1 + T.log(T.abs_(sa2)) + ma2 \n",
    "    return(ent)\n",
    "        \n",
    "def LogP(N,P,K,Y,colSumsY,mParams,vParams):\n",
    "    \"\"\"\n",
    "    Defines the log posterior (up to a constant)\n",
    "    \"\"\"\n",
    "    mU,mV,sU,sV,mDelta,sDelta,mGamma,sGamma,ma1,sa1,ma2,sa2 = vParams\n",
    "    U,V,Gamma,Delta,a1,a2 = mParams\n",
    "    X = T.dot(U,V.T)\n",
    "    C = 10\n",
    "    gX = X/(1-T.exp(-C*X))\n",
    "    colSumsgX = gX.sum(0)\n",
    "    b = 1\n",
    "    logP = (Y*T.log(gX)).sum() - (colSumsY*T.log(colSumsgX)).sum() \\\n",
    "           - (T.sqr(U)*Delta.cumprod()*Gamma).sum()/2 \\\n",
    "           + T.log(Delta.cumprod()*Gamma).sum()/2 \\\n",
    "           - (T.sqr(V)).sum()/2 \\\n",
    "           - b*a1 - b*a2 - T.log(Gamma).sum()/2 - Gamma.sum()/2 \\\n",
    "           - T.gammaln(a1) + (a1-1)*T.log(Delta[0]) - Delta[0] \\\n",
    "           - T.gammaln(a2)*(K-1) + (a2-1)*T.log(Delta[1:]).sum() - Delta[1:].sum()\n",
    "    return(logP)\n",
    "            \n",
    "def ELBO(N,P,K,Y,colSumsY,mParams,vParams):\n",
    "    return(LogP(N,P,K,Y,colSumsY,mParams,vParams)[0]+Entropy(N,P,K,vParams)[0])"
   ]
  },
  {
   "cell_type": "code",
   "execution_count": 65,
   "metadata": {
    "collapsed": false
   },
   "outputs": [],
   "source": [
    "# Lasagne does gradient descent, so the cost we minimize is the *negative* ELBO \n",
    "elbo = ELBO(N,P,K,Y,colSumsY,mParams,vParams)\n",
    "vParamUpdates = lasagne.updates.adadelta(-elbo,vParams)\n",
    "AdaDeltaStep = theano.function(inputs=[],updates=vParamUpdates)"
   ]
  },
  {
   "cell_type": "code",
   "execution_count": 75,
   "metadata": {
    "collapsed": false
   },
   "outputs": [
    {
     "name": "stdout",
     "output_type": "stream",
     "text": [
      "CPU times: user 6min 20s, sys: 7.78 s, total: 6min 28s\n",
      "Wall time: 6min 55s\n"
     ]
    }
   ],
   "source": [
    "%%time\n",
    "counter = 0\n",
    "ELBOlist = []\n",
    "keepUpdating = True\n",
    "while keepUpdating:\n",
    "    \n",
    "    AdaDeltaStep()\n",
    "    \n",
    "    # Estimate ELBO by Monte Carlo every 20 steps\n",
    "    if counter%20==0:\n",
    "        ELBOlist.append(np.mean([elbo.eval() for i in range(10)]))\n",
    "    \n",
    "    keepUpdating = False if counter>1000 else True\n",
    "    counter += 1"
   ]
  },
  {
   "cell_type": "code",
   "execution_count": 77,
   "metadata": {
    "collapsed": false
   },
   "outputs": [
    {
     "data": {
      "text/plain": [
       "array([ 2.44154162,  2.311278  ,  2.40817429,  2.40349732,  2.41192618,\n",
       "        2.38590525,  2.44575349,  2.44289037,  2.48464908,  2.48459975])"
      ]
     },
     "execution_count": 77,
     "metadata": {},
     "output_type": "execute_result"
    }
   ],
   "source": [
    "# This is the posterior mean of Delta\n",
    "np.exp(mDelta.eval()+sDelta.eval()**2/2)"
   ]
  },
  {
   "cell_type": "code",
   "execution_count": 68,
   "metadata": {
    "collapsed": false
   },
   "outputs": [
    {
     "data": {
      "text/plain": [
       "array([[ 8.04829596,  8.05546054,  8.37359998, ...,  7.87788281,\n",
       "         8.36167578,  5.7664313 ],\n",
       "       [ 8.07656255,  8.07837467,  8.38509252, ...,  7.89146641,\n",
       "         8.36566693,  5.80323758],\n",
       "       [ 8.04970809,  8.05542265,  8.3645958 , ...,  7.87020741,\n",
       "         8.34952925,  5.77279111],\n",
       "       ..., \n",
       "       [ 8.1830075 ,  8.18733659,  8.50895918, ...,  8.00549261,\n",
       "         8.49163247,  5.86667251],\n",
       "       [ 8.24122355,  8.25441854,  8.57181177, ...,  8.06034917,\n",
       "         8.55230223,  5.9153675 ],\n",
       "       [ 8.2107357 ,  8.21374517,  8.5352055 , ...,  8.03261625,\n",
       "         8.52326759,  5.88254115]])"
      ]
     },
     "execution_count": 68,
     "metadata": {},
     "output_type": "execute_result"
    }
   ],
   "source": [
    "# The mean of X is close to the true X\n",
    "np.dot(mU.eval(),mV.eval().T)"
   ]
  },
  {
   "cell_type": "code",
   "execution_count": 69,
   "metadata": {
    "collapsed": false
   },
   "outputs": [
    {
     "data": {
      "text/plain": [
       "array([[ 1.38845174,  0.98363814,  0.71655763,  0.74579697,  0.77182108,\n",
       "         0.82246237,  0.80068246,  0.81665071,  0.85516943,  0.87931216],\n",
       "       [ 1.46519904,  1.03859793,  0.7582725 ,  0.7385082 ,  0.73399096,\n",
       "         0.78149679,  0.7910896 ,  0.79953141,  0.77057903,  0.86973514],\n",
       "       [ 1.36163418,  1.04149056,  0.79691246,  0.77666126,  0.73510692,\n",
       "         0.76798357,  0.79999806,  0.80600678,  0.79618947,  0.87449376],\n",
       "       [ 1.43682389,  0.9897087 ,  0.76948881,  0.78894732,  0.73899309,\n",
       "         0.77527919,  0.78251617,  0.82241355,  0.83671124,  0.80721959],\n",
       "       [ 1.43152301,  1.03556852,  0.75527794,  0.73642459,  0.77194458,\n",
       "         0.81399182,  0.8030899 ,  0.82402702,  0.78299409,  0.82232172],\n",
       "       [ 1.38121452,  1.09088395,  0.85641505,  0.77013069,  0.74020504,\n",
       "         0.8113771 ,  0.83676533,  0.76634448,  0.76820869,  0.86788238],\n",
       "       [ 1.42747012,  1.00860426,  0.7631624 ,  0.74695039,  0.76330871,\n",
       "         0.76269485,  0.79705427,  0.84257619,  0.84801097,  0.84968625],\n",
       "       [ 1.44564539,  0.9814268 ,  0.79817393,  0.72947173,  0.7728683 ,\n",
       "         0.72048208,  0.81601179,  0.78947799,  0.86984449,  0.85184756],\n",
       "       [ 1.37210429,  0.98945003,  0.76867976,  0.72745197,  0.77046879,\n",
       "         0.81063719,  0.84355467,  0.83903942,  0.83559024,  0.82974463],\n",
       "       [ 1.45942761,  1.00900419,  0.75016509,  0.743304  ,  0.78267909,\n",
       "         0.82654067,  0.83516619,  0.83098281,  0.78774499,  0.83566955],\n",
       "       [ 1.42529431,  1.04731291,  0.789047  ,  0.69267921,  0.72256905,\n",
       "         0.74991571,  0.81077985,  0.86483106,  0.77426192,  0.85819094],\n",
       "       [ 1.45728197,  1.0266333 ,  0.76690024,  0.74765561,  0.69512029,\n",
       "         0.74111281,  0.75920369,  0.78816703,  0.82763867,  0.84109359],\n",
       "       [ 1.47113231,  0.98667622,  0.80016053,  0.77011193,  0.77175695,\n",
       "         0.80373891,  0.77572202,  0.80564443,  0.76406748,  0.80715015],\n",
       "       [ 1.40003106,  1.01978406,  0.86085243,  0.73930026,  0.80379048,\n",
       "         0.71574954,  0.83270639,  0.83598941,  0.85134749,  0.83743812],\n",
       "       [ 1.38910503,  1.03124856,  0.80196041,  0.75669658,  0.76583757,\n",
       "         0.8288989 ,  0.82450531,  0.8124617 ,  0.81702844,  0.84284101],\n",
       "       [ 1.43025476,  0.99549868,  0.81572609,  0.76166363,  0.75710154,\n",
       "         0.80775822,  0.81396222,  0.82584257,  0.85092682,  0.87618449],\n",
       "       [ 1.44299793,  0.97742195,  0.82244403,  0.70745431,  0.7906192 ,\n",
       "         0.79745567,  0.75446151,  0.80360059,  0.82255677,  0.83015158],\n",
       "       [ 1.47390496,  0.95958267,  0.77867139,  0.75408062,  0.76698813,\n",
       "         0.79994535,  0.79798193,  0.83763431,  0.80091587,  0.88625946],\n",
       "       [ 1.40064759,  1.03834056,  0.79960063,  0.7643536 ,  0.69158313,\n",
       "         0.78820025,  0.80831078,  0.85554341,  0.780098  ,  0.84083795],\n",
       "       [ 1.41802365,  0.99051898,  0.77726891,  0.72344454,  0.72976614,\n",
       "         0.80542941,  0.76518474,  0.85255004,  0.84730815,  0.84703366],\n",
       "       [ 1.39096445,  1.02758141,  0.76395387,  0.7400169 ,  0.71325432,\n",
       "         0.78546592,  0.80296818,  0.80807797,  0.78949556,  0.81979111],\n",
       "       [ 1.36306032,  0.94013714,  0.76981584,  0.76730376,  0.77659264,\n",
       "         0.82813064,  0.80354859,  0.83957244,  0.77040194,  0.85205167],\n",
       "       [ 1.40662087,  1.0613972 ,  0.7813069 ,  0.72638605,  0.77441669,\n",
       "         0.77695173,  0.79613726,  0.84435619,  0.80801517,  0.84338297],\n",
       "       [ 1.39376553,  0.91761531,  0.77243469,  0.71610217,  0.81047647,\n",
       "         0.77118178,  0.81279589,  0.84841263,  0.81785629,  0.81527013],\n",
       "       [ 1.40987495,  0.96353294,  0.81414423,  0.77281397,  0.74231325,\n",
       "         0.8218152 ,  0.81029546,  0.81180867,  0.8600042 ,  0.85402435],\n",
       "       [ 1.37847009,  1.0165245 ,  0.75067348,  0.68365784,  0.75323739,\n",
       "         0.80745035,  0.83553522,  0.84341073,  0.83765494,  0.84854012],\n",
       "       [ 1.49152143,  0.97879477,  0.79482214,  0.73512231,  0.79728044,\n",
       "         0.78354169,  0.80517876,  0.83091039,  0.88043716,  0.82001131],\n",
       "       [ 1.40754329,  0.97584161,  0.77441274,  0.70078856,  0.73210288,\n",
       "         0.7601778 ,  0.80955346,  0.82862301,  0.81451506,  0.8341376 ],\n",
       "       [ 1.40899376,  1.03102537,  0.78693869,  0.71310066,  0.79500517,\n",
       "         0.84544877,  0.8061148 ,  0.78894641,  0.84248398,  0.89223869],\n",
       "       [ 1.37970644,  1.04991048,  0.79887563,  0.81614548,  0.80676691,\n",
       "         0.80617288,  0.84043303,  0.81223744,  0.83471504,  0.83913957],\n",
       "       [ 1.39489675,  1.02935711,  0.80203988,  0.73963454,  0.76063313,\n",
       "         0.79280634,  0.83081284,  0.85681652,  0.83317249,  0.90472647]])"
      ]
     },
     "execution_count": 69,
     "metadata": {},
     "output_type": "execute_result"
    }
   ],
   "source": [
    "# And the factors reveal the rank 1 structure \n",
    "#hinton(mU.eval())\n",
    "mU.eval()"
   ]
  },
  {
   "cell_type": "code",
   "execution_count": 11,
   "metadata": {
    "collapsed": false
   },
   "outputs": [
    {
     "data": {
      "image/png": "[encoded data removed]",
      "text/plain": [
       "<matplotlib.figure.Figure at 0x118ce6910>"
      ]
     },
     "metadata": {},
     "output_type": "display_data"
    }
   ],
   "source": [
    "hinton(mV.eval())"
   ]
  },
  {
   "cell_type": "code",
   "execution_count": 105,
   "metadata": {
    "collapsed": false
   },
   "outputs": [
    {
     "data": {
      "text/plain": [
       "array([ 0.00115952])"
      ]
     },
     "execution_count": 105,
     "metadata": {},
     "output_type": "execute_result"
    }
   ],
   "source": [
    "# We can check that the variance s of the noise in X is small\n",
    "s.eval()"
   ]
  },
  {
   "cell_type": "code",
   "execution_count": 76,
   "metadata": {
    "collapsed": false
   },
   "outputs": [
    {
     "data": {
      "text/plain": [
       "<matplotlib.text.Text at 0x1144b5ed0>"
      ]
     },
     "execution_count": 76,
     "metadata": {},
     "output_type": "execute_result"
    },
    {
     "data": {
      "image/png": "[encoded data removed]",
      "text/plain": [
       "<matplotlib.figure.Figure at 0x1144d3410>"
      ]
     },
     "metadata": {},
     "output_type": "display_data"
    }
   ],
   "source": [
    "# Finally, we plot the ELBO against iteration\n",
    "fig = plt.figure()\n",
    "ax = fig.add_subplot(111)\n",
    "ax.plot(ELBOlist[30:])\n",
    "ax.set_xlabel(\"Iteration\")\n",
    "ax.set_ylabel(\"ELBO (up to constant)\")"
   ]
  },
  {
   "cell_type": "code",
   "execution_count": 118,
   "metadata": {
    "collapsed": false
   },
   "outputs": [
    {
     "data": {
      "text/plain": [
       "<matplotlib.text.Text at 0x10f3071d0>"
      ]
     },
     "execution_count": 118,
     "metadata": {},
     "output_type": "execute_result"
    },
    {
     "data": {
      "image/png": "[encoded data removed]",
      "text/plain": [
       "<matplotlib.figure.Figure at 0x10f355250>"
      ]
     },
     "metadata": {},
     "output_type": "display_data"
    }
   ],
   "source": [
    "# Zooming into the last ~7000 iterations\n",
    "fig = plt.figure()\n",
    "ax = fig.add_subplot(111)\n",
    "ax.plot(range(0,10001,20)[-7000/20:],ELBOlist[-7000/20:])\n",
    "ax.set_xlabel(\"Iteration\")\n",
    "ax.set_ylabel(\"ELBO (up to constant)\")"
   ]
  },
  {
   "cell_type": "markdown",
   "metadata": {},
   "source": [
    "### Hinton Plotting of NumPy arrays"
   ]
  },
  {
   "cell_type": "code",
   "execution_count": 61,
   "metadata": {
    "collapsed": true
   },
   "outputs": [],
   "source": [
    "def hinton(matrix, max_weight=None, ax=None):\n",
    "    \"\"\"Draw Hinton diagram for visualizing a weight matrix.\"\"\"\n",
    "    ax = ax if ax is not None else plt.gca()\n",
    "\n",
    "    if not max_weight:\n",
    "        max_weight = 2**np.ceil(np.log(np.abs(matrix).max())/np.log(2))\n",
    "\n",
    "    ax.patch.set_facecolor('gray')\n",
    "    ax.set_aspect('equal', 'box')\n",
    "    ax.xaxis.set_major_locator(plt.NullLocator())\n",
    "    ax.yaxis.set_major_locator(plt.NullLocator())\n",
    "\n",
    "    for (x, y), w in np.ndenumerate(matrix):\n",
    "        color = 'white' if w > 0 else 'black'\n",
    "        size = np.sqrt(np.abs(w))\n",
    "        rect = plt.Rectangle([y - size / 2, x - size / 2], size, size,\n",
    "                             facecolor=color, edgecolor=color)\n",
    "        ax.add_patch(rect)\n",
    "\n",
    "    ax.autoscale_view()\n",
    "    ax.invert_yaxis()"
   ]
  },
  {
   "cell_type": "code",
   "execution_count": 25,
   "metadata": {
    "collapsed": false
   },
   "outputs": [],
   "source": [
    "lp = LogP(N,P,K,Y,colSumsY,mParams,vParams)"
   ]
  },
  {
   "cell_type": "code",
   "execution_count": 46,
   "metadata": {
    "collapsed": false
   },
   "outputs": [
    {
     "data": {
      "text/plain": [
       "array([-790206.29494543])"
      ]
     },
     "execution_count": 46,
     "metadata": {},
     "output_type": "execute_result"
    }
   ],
   "source": [
    "lp.eval()"
   ]
  },
  {
   "cell_type": "code",
   "execution_count": 43,
   "metadata": {
    "collapsed": false
   },
   "outputs": [
    {
     "ename": "NullTypeGradError",
     "evalue": "tensor.grad encountered a NaN. This variable is Null because the grad method for input 3 (<RandomStateType>) of the for{cpu,scan_fn} op is mathematically undefined. Depends on a shared variable",
     "output_type": "error",
     "traceback": [
      "\u001b[0;31m---------------------------------------------------------------------------\u001b[0m",
      "\u001b[0;31mNullTypeGradError\u001b[0m                         Traceback (most recent call last)",
      "\u001b[0;32m<ipython-input-43-891e6b654284>\u001b[0m in \u001b[0;36m<module>\u001b[0;34m()\u001b[0m\n\u001b[0;32m----> 1\u001b[0;31m \u001b[0mT\u001b[0m\u001b[0;34m.\u001b[0m\u001b[0mgrad\u001b[0m\u001b[0;34m(\u001b[0m\u001b[0mlp\u001b[0m\u001b[0;34m[\u001b[0m\u001b[0;36m0\u001b[0m\u001b[0;34m]\u001b[0m\u001b[0;34m,\u001b[0m\u001b[0;34m[\u001b[0m\u001b[0mmU\u001b[0m\u001b[0;34m]\u001b[0m\u001b[0;34m)\u001b[0m\u001b[0;34m[\u001b[0m\u001b[0;36m0\u001b[0m\u001b[0;34m]\u001b[0m\u001b[0;34m\u001b[0m\u001b[0m\n\u001b[0m",
      "\u001b[0;32m/usr/local/lib/python2.7/site-packages/theano/gradient.pyc\u001b[0m in \u001b[0;36mgrad\u001b[0;34m(cost, wrt, consider_constant, disconnected_inputs, add_names, known_grads, return_disconnected)\u001b[0m\n\u001b[1;32m    543\u001b[0m \u001b[0;34m\u001b[0m\u001b[0m\n\u001b[1;32m    544\u001b[0m     rval = _populate_grad_dict(var_to_app_to_idx,\n\u001b[0;32m--> 545\u001b[0;31m                                grad_dict, wrt, cost_name)\n\u001b[0m\u001b[1;32m    546\u001b[0m \u001b[0;34m\u001b[0m\u001b[0m\n\u001b[1;32m    547\u001b[0m     \u001b[0;32mfor\u001b[0m \u001b[0mi\u001b[0m \u001b[0;32min\u001b[0m \u001b[0mxrange\u001b[0m\u001b[0;34m(\u001b[0m\u001b[0mlen\u001b[0m\u001b[0;34m(\u001b[0m\u001b[0mrval\u001b[0m\u001b[0;34m)\u001b[0m\u001b[0;34m)\u001b[0m\u001b[0;34m:\u001b[0m\u001b[0;34m\u001b[0m\u001b[0m\n",
      "\u001b[0;32m/usr/local/lib/python2.7/site-packages/theano/gradient.pyc\u001b[0m in \u001b[0;36m_populate_grad_dict\u001b[0;34m(var_to_app_to_idx, grad_dict, wrt, cost_name)\u001b[0m\n\u001b[1;32m   1281\u001b[0m         \u001b[0;32mreturn\u001b[0m \u001b[0mgrad_dict\u001b[0m\u001b[0;34m[\u001b[0m\u001b[0mvar\u001b[0m\u001b[0;34m]\u001b[0m\u001b[0;34m\u001b[0m\u001b[0m\n\u001b[1;32m   1282\u001b[0m \u001b[0;34m\u001b[0m\u001b[0m\n\u001b[0;32m-> 1283\u001b[0;31m     \u001b[0mrval\u001b[0m \u001b[0;34m=\u001b[0m \u001b[0;34m[\u001b[0m\u001b[0maccess_grad_cache\u001b[0m\u001b[0;34m(\u001b[0m\u001b[0melem\u001b[0m\u001b[0;34m)\u001b[0m \u001b[0;32mfor\u001b[0m \u001b[0melem\u001b[0m \u001b[0;32min\u001b[0m \u001b[0mwrt\u001b[0m\u001b[0;34m]\u001b[0m\u001b[0;34m\u001b[0m\u001b[0m\n\u001b[0m\u001b[1;32m   1284\u001b[0m \u001b[0;34m\u001b[0m\u001b[0m\n\u001b[1;32m   1285\u001b[0m     \u001b[0;32mreturn\u001b[0m \u001b[0mrval\u001b[0m\u001b[0;34m\u001b[0m\u001b[0m\n",
      "\u001b[0;32m/usr/local/lib/python2.7/site-packages/theano/gradient.pyc\u001b[0m in \u001b[0;36maccess_grad_cache\u001b[0;34m(var)\u001b[0m\n\u001b[1;32m   1250\u001b[0m                             raise NullTypeGradError(\"tensor.grad \"\n\u001b[1;32m   1251\u001b[0m                                                     \u001b[0;34m\"encountered a NaN. \"\u001b[0m \u001b[0;34m+\u001b[0m\u001b[0;34m\u001b[0m\u001b[0m\n\u001b[0;32m-> 1252\u001b[0;31m                                                     term.type.why_null)\n\u001b[0m\u001b[1;32m   1253\u001b[0m \u001b[0;34m\u001b[0m\u001b[0m\n\u001b[1;32m   1254\u001b[0m                         \u001b[0;31m#Don't try to sum up DisconnectedType placeholders\u001b[0m\u001b[0;34m\u001b[0m\u001b[0;34m\u001b[0m\u001b[0m\n",
      "\u001b[0;31mNullTypeGradError\u001b[0m: tensor.grad encountered a NaN. This variable is Null because the grad method for input 3 (<RandomStateType>) of the for{cpu,scan_fn} op is mathematically undefined. Depends on a shared variable"
     ]
    }
   ],
   "source": [
    "T.grad(lp[0],[mU])[0]"
   ]
  },
  {
   "cell_type": "code",
   "execution_count": 36,
   "metadata": {
    "collapsed": false
   },
   "outputs": [],
   "source": [
    "X = T.dot(U,V.T)\n",
    "C = 10\n",
    "gX = X/(1-T.exp(-C*X))\n",
    "colSumsgX = gX.sum(0)"
   ]
  },
  {
   "cell_type": "code",
   "execution_count": 52,
   "metadata": {
    "collapsed": false
   },
   "outputs": [],
   "source": [
    "multi = Y*T.log(gX).sum() - colSumsY*T.log(colSumsgX).sum()"
   ]
  },
  {
   "cell_type": "code",
   "execution_count": 53,
   "metadata": {
    "collapsed": false
   },
   "outputs": [
    {
     "data": {
      "text/plain": [
       "array([[-21028.13110352, -21028.13110352, -21028.13110352, ...,\n",
       "        -21028.13110352, -21028.13110352, -21028.13110352],\n",
       "       [-21028.13110352, -21028.13110352, -21028.13110352, ...,\n",
       "        -21028.13110352, -21028.13110352, -21028.13110352],\n",
       "       [-21028.13110352, -21028.13110352, -21028.13110352, ...,\n",
       "        -21028.13110352, -21028.13110352, -21028.13110352],\n",
       "       ..., \n",
       "       [-21028.13110352, -21028.13110352, -21028.13110352, ...,\n",
       "        -21028.13110352, -21028.13110352, -21028.13110352],\n",
       "       [-21028.13110352, -21028.13110352, -21028.13110352, ...,\n",
       "        -21028.13110352, -21028.13110352, -21028.13110352],\n",
       "       [-21028.13110352, -21028.13110352, -21028.13110352, ...,\n",
       "        -21028.13110352, -21028.13110352, -21028.13110352]])"
      ]
     },
     "execution_count": 53,
     "metadata": {},
     "output_type": "execute_result"
    }
   ],
   "source": [
    "multi.eval()"
   ]
  },
  {
   "cell_type": "code",
   "execution_count": null,
   "metadata": {
    "collapsed": true
   },
   "outputs": [],
   "source": []
  }
 ],
 "metadata": {
  "kernelspec": {
   "display_name": "Python 2",
   "language": "python",
   "name": "python2"
  },
  "language_info": {
   "codemirror_mode": {
    "name": "ipython",
    "version": 2
   },
   "file_extension": ".py",
   "mimetype": "text/x-python",
   "name": "python",
   "nbconvert_exporter": "python",
   "pygments_lexer": "ipython2",
   "version": "2.7.10"
  }
 },
 "nbformat": 4,
 "nbformat_minor": 0
}
